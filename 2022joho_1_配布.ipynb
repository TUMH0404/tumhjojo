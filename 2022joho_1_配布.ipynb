{
  "nbformat": 4,
  "nbformat_minor": 0,
  "metadata": {
    "colab": {
      "name": "2022joho_1_配布.ipynb",
      "provenance": [],
      "collapsed_sections": [],
      "authorship_tag": "ABX9TyMqJ3MRRML8ph2C5XKnhR1a",
      "include_colab_link": true
    },
    "kernelspec": {
      "name": "python3",
      "display_name": "Python 3"
    },
    "language_info": {
      "name": "python"
    }
  },
  "cells": [
    {
      "cell_type": "markdown",
      "metadata": {
        "id": "view-in-github",
        "colab_type": "text"
      },
      "source": [
        "<a href=\"https://colab.research.google.com/github/TUMH0404/tumhjojo/blob/main/2022joho_1_%E9%85%8D%E5%B8%83.ipynb\" target=\"_parent\"><img src=\"https://colab.research.google.com/assets/colab-badge.svg\" alt=\"Open In Colab\"/></a>"
      ]
    },
    {
      "cell_type": "code",
      "source": [
        "# 今日は==年==月==日==曜日と表示する。\n",
        "\n",
        "# inputコードを使う。\n",
        "print(\"今日は・・・\")\n",
        "today_y = input(\"何年？\")\n",
        "today_m = input(\"何月？\")\n",
        "today_d = input(\"何日？\")\n",
        "val = input(\"何曜日？\")"
      ],
      "metadata": {
        "colab": {
          "base_uri": "https://localhost:8080/"
        },
        "id": "R8Ax1_iyKYXy",
        "outputId": "ad0d3365-329c-4e90-b87f-1e48e64b850c"
      },
      "execution_count": null,
      "outputs": [
        {
          "name": "stdout",
          "output_type": "stream",
          "text": [
            "今日は・・・\n",
            "何月？4\n",
            "何日？2\n",
            "何曜日？月\n"
          ]
        }
      ]
    },
    {
      "cell_type": "code",
      "source": [
        "# こうするとどうなる？\n",
        "today_m + today_d"
      ],
      "metadata": {
        "id": "pwh7vl7FbT4G"
      },
      "execution_count": null,
      "outputs": []
    },
    {
      "cell_type": "code",
      "source": [
        "# 今日は==年==月==日==曜日と表示する。\n",
        "# フォーマット文字列の場合"
      ],
      "metadata": {
        "id": "e1gECTwFcF4N"
      },
      "execution_count": null,
      "outputs": []
    },
    {
      "cell_type": "code",
      "source": [
        "# today_mの3ヶ月後は何月か？\n",
        "# today_mに3を足せば良い！？"
      ],
      "metadata": {
        "id": "N629fqG7fi4N"
      },
      "execution_count": null,
      "outputs": []
    },
    {
      "cell_type": "code",
      "source": [
        "# 月や日にちを数字にして足し算や引き算ができるようにする\n",
        "today_m_int = int(today_m)\n",
        "print(today_m_int)"
      ],
      "metadata": {
        "colab": {
          "base_uri": "https://localhost:8080/"
        },
        "id": "EaJCWEc8eyqE",
        "outputId": "f1336ea8-f6b5-472c-c563-a524936705ac"
      },
      "execution_count": null,
      "outputs": [
        {
          "output_type": "stream",
          "name": "stdout",
          "text": [
            "4\n"
          ]
        }
      ]
    },
    {
      "cell_type": "code",
      "source": [
        "# 上のことを応用して、さっき格納されたtoday_yを計算に用いられるようにする"
      ],
      "metadata": {
        "id": "Veo2nZpffYMm"
      },
      "execution_count": null,
      "outputs": []
    },
    {
      "cell_type": "code",
      "source": [
        "# 今年はうるう年ですか？はい、いいえで答えさせる。\n",
        "# うるう年は、年号が4で割り切れてかつ100で割り切れない年、400で割り切れる年にあたる。\n",
        "# はじめに4で割り切れる年かどうか、はい、いいえで答えさせてみる。\n",
        "# このフローチャートをコードにする。\n",
        "# https://docs.google.com/presentation/d/1gRVtU_TdvEzP_nSFA66-H66eiMFgxX4mLS7f1XVkQak/\n",
        "# はい、いいえを表示する。\n",
        "print(\"はい\")\n",
        "print(\"いいえ\")"
      ],
      "metadata": {
        "id": "4NJ0E_k_fLCM"
      },
      "execution_count": null,
      "outputs": []
    },
    {
      "cell_type": "code",
      "source": [
        "# 条件文を使って仕上げる"
      ],
      "metadata": {
        "id": "JXRK2_VWiveK"
      },
      "execution_count": null,
      "outputs": []
    },
    {
      "cell_type": "code",
      "source": [
        "# 上の条件文を10回繰り返してみよう。\n",
        "# https://docs.google.com/presentation/d/1gRVtU_TdvEzP_nSFA66-H66eiMFgxX4mLS7f1XVkQak/\n",
        "# 繰り返し文を使ってコードを書いてみる。\n"
      ],
      "metadata": {
        "id": "jo3YH1vyq3Ni"
      },
      "execution_count": null,
      "outputs": []
    },
    {
      "cell_type": "code",
      "source": [
        "# for文"
      ],
      "metadata": {
        "id": "9RDwzRuGrkHt"
      },
      "execution_count": null,
      "outputs": []
    },
    {
      "cell_type": "code",
      "source": [
        "# while文"
      ],
      "metadata": {
        "id": "bi9BYi0Erj_Y"
      },
      "execution_count": null,
      "outputs": []
    },
    {
      "cell_type": "code",
      "source": [
        "# 無限ループとbreak"
      ],
      "metadata": {
        "id": "hb4EZdW7rj0c"
      },
      "execution_count": null,
      "outputs": []
    },
    {
      "cell_type": "code",
      "source": [
        "# 円周率を文字列でshoに格納する\n",
        "# 格納したshoに対してさまざまな処理を行う\n",
        "sho = \"3.14159265358979323846264338327950288419716939937510582097494459230781640628620899862803482534211706\""
      ],
      "metadata": {
        "id": "Eaf3Y4zTr0JR"
      },
      "execution_count": null,
      "outputs": []
    },
    {
      "cell_type": "code",
      "source": [
        "# メソッドの確認 : dir(sho)"
      ],
      "metadata": {
        "id": "pi447PlX4qvF"
      },
      "execution_count": null,
      "outputs": []
    },
    {
      "cell_type": "code",
      "source": [
        "# sho.isdigit()"
      ],
      "metadata": {
        "id": "rqQSYeNFu2Yv"
      },
      "execution_count": null,
      "outputs": []
    },
    {
      "cell_type": "code",
      "source": [
        "# sho.count(適当な数字の文字列)"
      ],
      "metadata": {
        "id": "nyk94bBcwAM7"
      },
      "execution_count": null,
      "outputs": []
    },
    {
      "cell_type": "code",
      "source": [
        "# sho.index(\".\"). # 小数点の位置"
      ],
      "metadata": {
        "id": "OGnCKL13wV4-"
      },
      "execution_count": null,
      "outputs": []
    },
    {
      "cell_type": "code",
      "source": [
        "# 添字を使って小数点のみ表示する。"
      ],
      "metadata": {
        "id": "3Z7H3pIFyLEu"
      },
      "execution_count": null,
      "outputs": []
    },
    {
      "cell_type": "code",
      "source": [
        "# 小数点以下の桁数、1を表示する。"
      ],
      "metadata": {
        "id": "XsqhRq_Fyihk"
      },
      "execution_count": null,
      "outputs": []
    },
    {
      "cell_type": "code",
      "source": [
        "# 小数点以下の桁数、1〜10を表示する。"
      ],
      "metadata": {
        "id": "2d2wg3v0ymzQ"
      },
      "execution_count": null,
      "outputs": []
    },
    {
      "cell_type": "code",
      "source": [
        "# shoに格納されている円周率で小数点の最終桁の数字を表示する。"
      ],
      "metadata": {
        "id": "9MhEseNUysWq"
      },
      "execution_count": null,
      "outputs": []
    },
    {
      "cell_type": "code",
      "source": [
        "# shoはイテラブルである。for文を使って一文字ずつ表示する。"
      ],
      "metadata": {
        "id": "Te71ejI6zGkS"
      },
      "execution_count": null,
      "outputs": []
    },
    {
      "cell_type": "code",
      "source": [
        "# 上のfor文を条件文を用いて発展させて0だけの数字を表示する。"
      ],
      "metadata": {
        "id": "voxg_7BuzhQY"
      },
      "execution_count": null,
      "outputs": []
    },
    {
      "cell_type": "code",
      "source": [
        "# for文とsho.count()とフォーマット文字列を使って全ての数字の数を表示する。\n",
        "# 例：0は10文字、1は30文字、・・・・\n"
      ],
      "metadata": {
        "id": "E2ZCauTT0vxG"
      },
      "execution_count": null,
      "outputs": []
    },
    {
      "cell_type": "code",
      "source": [
        "# 小数点以下の数字をshotenに格納する。"
      ],
      "metadata": {
        "id": "n31avTlL1mfO"
      },
      "execution_count": null,
      "outputs": []
    },
    {
      "cell_type": "code",
      "source": [
        "# shotenを先頭から順に5文字を取り出す（shotenに対する添字を使って）。\n",
        "# 14159"
      ],
      "metadata": {
        "id": "Tf9S0WpO117v"
      },
      "execution_count": null,
      "outputs": []
    },
    {
      "cell_type": "code",
      "source": [
        "# shotenを先頭から順に6〜10文字を取り出す（shotenに対する添字を使って）。"
      ],
      "metadata": {
        "id": "0RviFZOE3Fo0"
      },
      "execution_count": null,
      "outputs": []
    },
    {
      "cell_type": "code",
      "source": [
        "# shotenを先頭から順に11〜15文字を取り出す（shotenに対する添字を使って）。"
      ],
      "metadata": {
        "id": "N2CooynM3NUv"
      },
      "execution_count": null,
      "outputs": []
    },
    {
      "cell_type": "code",
      "source": [
        "# shotenを先頭から順に16〜20文字を取り出す（shotenに対する添字を使って）。"
      ],
      "metadata": {
        "id": "udals-CM3PrD"
      },
      "execution_count": null,
      "outputs": []
    },
    {
      "cell_type": "code",
      "source": [
        "# for文を使ってまとめて区分けする。\n"
      ],
      "metadata": {
        "id": "-o0msN8T2kk5"
      },
      "execution_count": null,
      "outputs": []
    },
    {
      "cell_type": "code",
      "source": [
        "# 上のコードを発展させて最後まで表示する。最後は3つの数字になるはず。\n"
      ],
      "metadata": {
        "id": "sG_oH3zb2keq"
      },
      "execution_count": null,
      "outputs": []
    },
    {
      "cell_type": "code",
      "source": [
        "# 上のコードを使い、10文字ごと、14文字ごとに取り出すとすると、どこを変更する？"
      ],
      "metadata": {
        "id": "CA6P0P1J_YCz"
      },
      "execution_count": null,
      "outputs": []
    },
    {
      "cell_type": "code",
      "source": [
        "# 曜日と月の日数を定義する。曜日はweeksを変数名にしてリスト型として格納する。要素：\"月\",\"火\",\"水\",\"木\",\"金\",\"土\",\"日\"\n",
        "# 月は1〜12の整数をkeyにそれぞれの日数をvalueにして変数名monthとして代入する。"
      ],
      "metadata": {
        "id": "17J1Dcjm_X7A"
      },
      "execution_count": null,
      "outputs": []
    },
    {
      "cell_type": "code",
      "source": [
        "# for文を使って曜日を順番に表示する。range()を用いる。\n"
      ],
      "metadata": {
        "id": "n6sxe8rd_XxW"
      },
      "execution_count": null,
      "outputs": []
    },
    {
      "cell_type": "code",
      "source": [
        "# 木曜日から水曜日までを順番に表示する。フォーマット文字列を用いる。\n"
      ],
      "metadata": {
        "id": "V7oGF4EN7Vfz"
      },
      "execution_count": null,
      "outputs": []
    },
    {
      "cell_type": "code",
      "source": [
        "# ある月（31日）の1日が木曜日、31日間の曜日を表示する。\n"
      ],
      "metadata": {
        "id": "KapGFZgbFg25"
      },
      "execution_count": null,
      "outputs": []
    },
    {
      "cell_type": "code",
      "source": [
        "# ある月（31日）の1日が木曜日、日にちと曜日を対応させ、フォーマット文字列で表示する。\n",
        "# フォーマット例>>>1日：木曜日、2日：金曜日、・・・・\n"
      ],
      "metadata": {
        "id": "RiM7UZtpCBUr"
      },
      "execution_count": null,
      "outputs": []
    },
    {
      "cell_type": "code",
      "source": [
        "# 1月（31日）の1日が木曜日、日にちと曜日を対応させ、フォーマット文字列で表示する。\n",
        "# monthを用いる。\n"
      ],
      "metadata": {
        "id": "COAbcFISFfUu"
      },
      "execution_count": null,
      "outputs": []
    },
    {
      "cell_type": "code",
      "source": [
        "# 上のコードを使い、月を加えて、1月1日木曜日、1月2日金曜日、・・・と表示する。\n",
        "# 1月（31日）の1日が木曜日。日にちと曜日を対応させ、フォーマット文字列で表示する。\n",
        "# ただし、monthを用いる。\n"
      ],
      "metadata": {
        "id": "7dRiJW0QVpgW"
      },
      "execution_count": null,
      "outputs": []
    },
    {
      "cell_type": "code",
      "source": [
        "# mcountを2にして、startを日にして、2月を作成する。\n"
      ],
      "metadata": {
        "id": "nipHpSws5UsB"
      },
      "execution_count": null,
      "outputs": []
    },
    {
      "cell_type": "code",
      "source": [
        "# mcountを3にして、startを日にして、3月を作成する。\n",
        " "
      ],
      "metadata": {
        "id": "hd0bCTk351TQ"
      },
      "execution_count": null,
      "outputs": []
    },
    {
      "cell_type": "code",
      "source": [
        "# mcountを4にして、start水をにして、3月を作成する。\n"
      ],
      "metadata": {
        "id": "yG4jTTrs56FR"
      },
      "execution_count": null,
      "outputs": []
    },
    {
      "cell_type": "code",
      "source": [
        "# 1〜4月、同じような作業の繰り返しである。自動的にしたい。\n",
        "# 曜日はスタートが決める。あとは順番に並ぶようにすれば良い。\n",
        "# 繰り返し文なので、for文を使う。\n"
      ],
      "metadata": {
        "id": "BRr-8PjI5nB4"
      },
      "execution_count": null,
      "outputs": []
    },
    {
      "cell_type": "code",
      "source": [
        "# ところが、月の変わり目の曜日が連続していない。\n",
        "# ある月の日数を終えたあと、開始曜日を一つ進める。それをstartに代入する。その状態で次の月に移れば上で書いた状態と同じになる。\n",
        "# 上のコードにその部分を追加する。\n"
      ],
      "metadata": {
        "id": "6lM62Gch2kcU"
      },
      "execution_count": null,
      "outputs": []
    },
    {
      "cell_type": "code",
      "source": [
        "# ついでに1970年を表示結果に加える。\n"
      ],
      "metadata": {
        "id": "y8GxMJ7ZWPKQ"
      },
      "execution_count": null,
      "outputs": []
    },
    {
      "cell_type": "code",
      "source": [
        "# monthは辞書型、ミュータブルのなので、書き換えが可能である。\n",
        "# monthの2の28を29に書き換える。\n"
      ],
      "metadata": {
        "id": "mSAE92KhW95N"
      },
      "execution_count": null,
      "outputs": []
    },
    {
      "cell_type": "code",
      "source": [
        "# monthの2を元に戻す。28に書き換える。\n"
      ],
      "metadata": {
        "id": "dEnJR3VC2kZt"
      },
      "execution_count": null,
      "outputs": []
    },
    {
      "cell_type": "code",
      "source": [
        "# ある年がうるう年であればうるう年と、そうでなければ平年と表示する条件文を作成する。\n",
        "# ちなみにうるう年は、1972,1976,1980,1984,1988,1992,1996,2000,2004,2008,2012,2016,2020,2024,2028,....\n",
        "# 4で割り切れるが100で割り切れない、もしくは100割り切れて、かつ400で割り切れる年と決まっている。\n",
        "\n"
      ],
      "metadata": {
        "id": "RobtQTPzX1C3"
      },
      "execution_count": null,
      "outputs": []
    },
    {
      "cell_type": "code",
      "source": [
        "# ある年がうるう年であればmonth[2]を29に、そうでなければmonth[2]を28に置き換える条件文を作成する。\n",
        "\n",
        "\n",
        "## 確認のため表示する\n",
        "print(month)"
      ],
      "metadata": {
        "id": "_lA_064mX03e"
      },
      "execution_count": null,
      "outputs": []
    },
    {
      "cell_type": "code",
      "source": [
        "# 1970年から2500年までをまとめて行う。\n"
      ],
      "metadata": {
        "id": "g59hkAUWab8N"
      },
      "execution_count": null,
      "outputs": []
    },
    {
      "cell_type": "code",
      "source": [
        "# これまでに作ったコードを組み合わせてカレンダーを表示する。\n"
      ],
      "metadata": {
        "id": "-b82MlQeab1J"
      },
      "execution_count": null,
      "outputs": []
    },
    {
      "cell_type": "code",
      "source": [
        "# calendarというリストを作っておき、上のコードの14行目をフォーマット文字列をcalendarに格納していく。\n"
      ],
      "metadata": {
        "id": "0ZSM5PdaabsU"
      },
      "execution_count": null,
      "outputs": []
    },
    {
      "cell_type": "code",
      "source": [
        "# calendar_dictという辞書型を作っておく。\n",
        "#その変数名を使い、calendar_dict[1970]とすると、その年のカレンダーが取得されるように上のコードの15行目を変更する。\n",
        "\n"
      ],
      "metadata": {
        "id": "R42RARwTX0rw"
      },
      "execution_count": null,
      "outputs": []
    },
    {
      "cell_type": "code",
      "source": [
        "# または・・・\n"
      ],
      "metadata": {
        "id": "SNQOyJsDZsXY"
      },
      "execution_count": null,
      "outputs": []
    },
    {
      "cell_type": "code",
      "source": [
        "#'1980年11月4日日曜日'、'1980年11月5日月曜日'、'1980年11月6日火曜日'、と表示されているのを分割して[\"1980\",\"11\",\"4\",\"日\"]のように全てをリストにする。\n",
        "\n"
      ],
      "metadata": {
        "id": "hk5QbdFPlMVV"
      },
      "execution_count": null,
      "outputs": []
    },
    {
      "cell_type": "code",
      "source": [
        "# それをcalendar_listに格納する。\n"
      ],
      "metadata": {
        "id": "P63pbohIlMSv"
      },
      "execution_count": null,
      "outputs": []
    },
    {
      "cell_type": "code",
      "source": [
        "# csv形式にする。\n",
        "# 上のコードの16行目を\",\"で結合する。\n",
        "# 例えば・・・\n",
        "# calendar_listの先頭の要素に対して行う。\n",
        "\n",
        "\",\".join(calendar_list[0])"
      ],
      "metadata": {
        "id": "T_1H6JbVKYMV"
      },
      "execution_count": null,
      "outputs": []
    },
    {
      "cell_type": "code",
      "source": [
        "# 上二つのコードを組み合わせて1970,1,1,木、1970,1,2,金、1970,1,3,土、・・・と続く文字列をcalendar_csvに格納する。\n"
      ],
      "metadata": {
        "id": "9Fra0xzNnaW6"
      },
      "execution_count": null,
      "outputs": []
    },
    {
      "cell_type": "code",
      "source": [
        ""
      ],
      "metadata": {
        "id": "wXIAFqasx8DF"
      },
      "execution_count": null,
      "outputs": []
    },
    {
      "cell_type": "code",
      "source": [
        "# ファイルとして保存したときに縦に羅列させるために改行コードで連結する。\n",
        "# 例えば、calendar_csv[:2]を改行コードで連結させる。\n"
      ],
      "metadata": {
        "id": "ZR7eIzUVxrbv"
      },
      "execution_count": null,
      "outputs": []
    },
    {
      "cell_type": "code",
      "source": [
        "# calendar_csvの要素全てを連結する。\n"
      ],
      "metadata": {
        "id": "wZX_CXQeyS2o"
      },
      "execution_count": null,
      "outputs": []
    },
    {
      "cell_type": "code",
      "source": [
        "# ファイルとして書き込む\n",
        "with open(\"calendar_samp.csv\",\"w\") as frame:\n",
        "    frame.write(calendar_csv_joint)"
      ],
      "metadata": {
        "id": "ms_FWjOIxS56"
      },
      "execution_count": null,
      "outputs": []
    },
    {
      "cell_type": "code",
      "source": [
        "# ついでに書き出したファイルを読み込む\n",
        "with open(\"calendar_samp.csv\",\"r\") as frame:\n",
        "    ff = frame.read()"
      ],
      "metadata": {
        "id": "p1irlRlK0Vqg"
      },
      "execution_count": null,
      "outputs": []
    },
    {
      "cell_type": "code",
      "source": [
        "# マイドライブの移動させる。\n",
        "# ドライブにマウントする。\n",
        "from google.colab import drive\n",
        "drive.mount(\"/content/drive\")\n",
        "# マイドライブにファイルを送り込む\n",
        "%mv ./calendar_samp.csv ./drive/MyDrive/"
      ],
      "metadata": {
        "id": "kG4XGxxn1f8N"
      },
      "execution_count": null,
      "outputs": []
    },
    {
      "cell_type": "code",
      "source": [
        "# Googleドライブからマイドライブを開くとcalendar_samp.csvが存在するはず。これをスプレッドシートで開き（自動保存される）、教員と共有する。"
      ],
      "metadata": {
        "id": "DdA3QFok0ig7"
      },
      "execution_count": null,
      "outputs": []
    },
    {
      "cell_type": "code",
      "source": [
        "# このコードを入力しておく。\n",
        "calendar_list = []\n",
        "start = weeks.index(\"木\")\n",
        "for ycount in range(1970,2500+1):\n",
        "    if (ycount%100!=0 and ycount%4==0) or ycount%400==0:\n",
        "        month[2]=29\n",
        "\n",
        "    else:\n",
        "        month[2]=28\n",
        "    \n",
        "    for mcount in range(12):\n",
        "        mcount += 1 \n",
        "        for i in range(month[mcount]):\n",
        "            d = i+1\n",
        "            w = weeks[(i+start)%7]\n",
        "            calendar_list.append(list(map(str,[ycount,mcount,d,w]))) \n",
        "            \n",
        "        start = (i+start)%7+1"
      ],
      "metadata": {
        "id": "1P5-Hef6MiC0"
      },
      "execution_count": null,
      "outputs": []
    },
    {
      "cell_type": "code",
      "source": [
        "# calendar_listのうち、2022年だけを取り出す。\n"
      ],
      "metadata": {
        "id": "dT6HmukiM1SR"
      },
      "execution_count": null,
      "outputs": []
    },
    {
      "cell_type": "code",
      "source": [
        "# そのうち、木の日付を取り出す。\n"
      ],
      "metadata": {
        "id": "NBoiscq_M1Lg"
      },
      "execution_count": null,
      "outputs": []
    },
    {
      "cell_type": "code",
      "source": [
        "# そのうち、金の日付を取り出す。\n"
      ],
      "metadata": {
        "id": "MfLG7uoJM1IZ"
      },
      "execution_count": null,
      "outputs": []
    },
    {
      "cell_type": "code",
      "source": [
        "# これらをその都度コピペしたり、打ち込んだりするのは面倒なので、簡単な記号に置き換えよう。\n",
        "# その記号をfとする。fの部分はdefにかかるブロックの部分全てである。ここでは、returnの行(7行目)まで。\n",
        "# 木、金、土など曜日がコロコロ変わる。数学で言う変数の部分、y=f(x)のxにあたる。f(x)とそのまま転記して・・・\n",
        "def f(x):\n",
        "    for i in calendar_list:\n",
        "        if i[0]==\"2022\" and i[-1]==x:\n",
        "            print(i)\n",
        "        else:\n",
        "            pass   \n",
        "    return 0\n",
        "\n",
        "# となる。\n",
        "# これを実行すると関数の出来上がり。\n",
        "# あとは、適切な変数を読み込ませて想定する結果が表示されれば完成である。\n"
      ],
      "metadata": {
        "id": "92rJn7CAM0wc"
      },
      "execution_count": null,
      "outputs": []
    },
    {
      "cell_type": "code",
      "source": [
        "# 曜日に加えて、年も変数においてみよう。\n",
        "# その変数を、tとする。\n",
        "# 変数は関数名の後の()の中にコンマで区切り、追加することができるので追加する。\n",
        "\n",
        "def f(x,t):\n",
        "    for i in calendar_list:\n",
        "        if i[0]==t and i[-1]==x:\n",
        "            print(i)\n",
        "        else:\n",
        "            pass   \n",
        "    return 0\n",
        "\n",
        "# となる。\n",
        "# これを実行すると関数の出来上がり。\n",
        "# あとは、適切な変数を読み込ませて想定する結果が表示されれば完成である。\n"
      ],
      "metadata": {
        "id": "QJkEHLPlNGD_"
      },
      "execution_count": null,
      "outputs": []
    },
    {
      "cell_type": "code",
      "source": [
        ""
      ],
      "metadata": {
        "id": "RJRzCpAJNWFS"
      },
      "execution_count": null,
      "outputs": []
    }
  ]
}